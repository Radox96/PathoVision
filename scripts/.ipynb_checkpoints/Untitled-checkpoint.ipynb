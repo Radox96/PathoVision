{
 "cells": [
  {
   "cell_type": "code",
   "execution_count": null,
   "metadata": {},
   "outputs": [],
   "source": [
    "import cv2 as cv \n",
    "import plantcv as pcv\n",
    "import argparse as argp"
   ]
  },
  {
   "cell_type": "code",
   "execution_count": null,
   "metadata": {},
   "outputs": [],
   "source": [
    "#import via OpenCV\n",
    "image = cv.imread(\"test_001.JPG\")\n",
    "#check for correct import by printing height and width of the image \n",
    "height, width = image.shape[:2]\n",
    "print height \n",
    "print width "
   ]
  },
  {
   "cell_type": "code",
   "execution_count": null,
   "metadata": {},
   "outputs": [],
   "source": [
    "#image processing\n",
    "\n",
    "#convert to grayscale \n",
    "imgray = cv.cvtColor(image, cv.COLOR_BGR2GRAY)\n",
    "#set theshold\n",
    "ret, thresh = cv.threshold(imgray, 127, 255, 0)\n",
    "#find contours \n",
    "im2, contours, hierarchy = cv.findContours(thresh, cv.RETR_TREE, cv.CHAIN_APPROX_SIMPLE)\n",
    "#draw contours \n",
    "cv.drawContours(imgray, contours, -1, (0,255,0), 3)\n",
    "#wirte image \n",
    "cv.imwrite(\"testresult2.jpg\", imgray)"
   ]
  }
 ],
 "metadata": {
  "kernelspec": {
   "display_name": "Python 2",
   "language": "python",
   "name": "python2"
  },
  "language_info": {
   "codemirror_mode": {
    "name": "ipython",
    "version": 2
   },
   "file_extension": ".py",
   "mimetype": "text/x-python",
   "name": "python",
   "nbconvert_exporter": "python",
   "pygments_lexer": "ipython2",
   "version": "2.7.14"
  }
 },
 "nbformat": 4,
 "nbformat_minor": 2
}
